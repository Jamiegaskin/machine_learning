{
 "cells": [
  {
   "cell_type": "code",
   "execution_count": 75,
   "metadata": {
    "collapsed": true
   },
   "outputs": [],
   "source": [
    "# import packages\n",
    "import scipy.io\n",
    "import sklearn.svm\n",
    "import numpy as np"
   ]
  },
  {
   "cell_type": "code",
   "execution_count": 76,
   "metadata": {
    "collapsed": true
   },
   "outputs": [],
   "source": [
    "# constants\n",
    "VALIDATION_SIZE = 10000\n",
    "SAMPLE_SIZES = [100, 200, 500, 1000, 2000, 5000, 10000]"
   ]
  },
  {
   "cell_type": "code",
   "execution_count": 77,
   "metadata": {
    "collapsed": false
   },
   "outputs": [],
   "source": [
    "# load training data\n",
    "data = scipy.io.loadmat(\"hw01_data/mnist/train.mat\")['trainX']"
   ]
  },
  {
   "cell_type": "code",
   "execution_count": 78,
   "metadata": {
    "collapsed": false
   },
   "outputs": [],
   "source": [
    "# shuffle data and partition into training and validation\n",
    "np.random.shuffle(data)\n",
    "validation = data[:VALIDATION_SIZE]\n",
    "validation_data = validation[:,:-1]\n",
    "validation_labels = validation[:,-1:]\n",
    "validation_labels = np.reshape(validation_labels, validation_labels.size)\n",
    "training = data[VALIDATION_SIZE:]"
   ]
  },
  {
   "cell_type": "code",
   "execution_count": 86,
   "metadata": {
    "collapsed": false
   },
   "outputs": [],
   "source": [
    "# train on N samples from the given data and return LinearSVC object\n",
    "def train(N, data):\n",
    "    indices = np.random.choice(data.shape[0], N)\n",
    "    samples = np.array([data[i] for i in indices])\n",
    "    samples_data = samples[:,:-1]\n",
    "    samples_labels = samples[:,-1:]\n",
    "    samples_labels = np.reshape(samples_labels, samples_labels.size)\n",
    "    lsvc = sklearn.svm.LinearSVC()\n",
    "    lsvc.fit(samples_data, samples_labels)\n",
    "    return lsvc\n",
    "\n",
    "# calculate percent correct predictions\n",
    "def calc_classification_accuracy(predictions, actual_vals):\n",
    "    if predictions.size != actual_vals.size:\n",
    "        raise Exception('The two imput vectors must be the same length')\n",
    "    total_correct = 0\n",
    "    for prediction_val, actual_val in zip(predictions, actual_vals):\n",
    "        if prediction_val == actual_val:\n",
    "            total_correct += 1\n",
    "    return total_correct / predictions.size\n",
    "\n",
    "# train, predict, and check predictions for N samples from the training data\n",
    "def train_predict_check(N, training_data, validation_data, validataion_labels):\n",
    "    lsvc = train(N, training_data)\n",
    "    predictions = lsvc.predict(validation_data)\n",
    "    print(\"Number of samples: \", N, \"| Accuracy: \", calc_classification_accuracy(predictions, validation_labels))"
   ]
  },
  {
   "cell_type": "code",
   "execution_count": 87,
   "metadata": {
    "collapsed": false
   },
   "outputs": [
    {
     "name": "stdout",
     "output_type": "stream",
     "text": [
      "Number of samples:  100 | Accuracy:  0.7093\n",
      "Number of samples:  200 | Accuracy:  0.7537\n",
      "Number of samples:  500 | Accuracy:  0.8391\n",
      "Number of samples:  1000 | Accuracy:  0.8286\n",
      "Number of samples:  2000 | Accuracy:  0.8288\n",
      "Number of samples:  5000 | Accuracy:  0.8372\n",
      "Number of samples:  10000 | Accuracy:  0.8535\n"
     ]
    }
   ],
   "source": [
    "# samples loop\n",
    "for N in SAMPLE_SIZES:\n",
    "    train_predict_check(N, training, validation_data, validation_labels)"
   ]
  },
  {
   "cell_type": "code",
   "execution_count": null,
   "metadata": {
    "collapsed": true
   },
   "outputs": [],
   "source": []
  }
 ],
 "metadata": {
  "anaconda-cloud": {},
  "kernelspec": {
   "display_name": "Python [conda root]",
   "language": "python",
   "name": "conda-root-py"
  },
  "language_info": {
   "codemirror_mode": {
    "name": "ipython",
    "version": 3
   },
   "file_extension": ".py",
   "mimetype": "text/x-python",
   "name": "python",
   "nbconvert_exporter": "python",
   "pygments_lexer": "ipython3",
   "version": "3.5.2"
  }
 },
 "nbformat": 4,
 "nbformat_minor": 1
}
